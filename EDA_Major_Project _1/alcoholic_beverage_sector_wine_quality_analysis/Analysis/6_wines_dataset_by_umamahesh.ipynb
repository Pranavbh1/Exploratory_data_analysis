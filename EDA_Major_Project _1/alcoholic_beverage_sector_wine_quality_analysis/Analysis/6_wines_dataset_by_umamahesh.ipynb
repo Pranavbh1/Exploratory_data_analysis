{
 "cells": [
  {
   "cell_type": "code",
   "execution_count": 30,
   "id": "3dd8dbd3",
   "metadata": {},
   "outputs": [],
   "source": [
    "import pandas as pd\n",
    "import numpy as np\n",
    "import matplotlib.pyplot as plt\n",
    "import seaborn as sns"
   ]
  },
  {
   "cell_type": "code",
   "execution_count": 31,
   "id": "6f81f3f7",
   "metadata": {},
   "outputs": [],
   "source": [
    "df=pd.read_csv(\"winequality.csv\")"
   ]
  },
  {
   "cell_type": "code",
   "execution_count": 32,
   "id": "6ed7a530",
   "metadata": {},
   "outputs": [
    {
     "data": {
      "text/plain": [
       "(6497, 14)"
      ]
     },
     "execution_count": 32,
     "metadata": {},
     "output_type": "execute_result"
    }
   ],
   "source": [
    "df.shape"
   ]
  },
  {
   "cell_type": "code",
   "execution_count": 33,
   "id": "b32dff92",
   "metadata": {},
   "outputs": [
    {
     "name": "stdout",
     "output_type": "stream",
     "text": [
      "<class 'pandas.core.frame.DataFrame'>\n",
      "RangeIndex: 6497 entries, 0 to 6496\n",
      "Data columns (total 14 columns):\n",
      " #   Column                Non-Null Count  Dtype  \n",
      "---  ------                --------------  -----  \n",
      " 0   fixed acidity         6497 non-null   float64\n",
      " 1   volatile acidity      6497 non-null   float64\n",
      " 2   citric acid           6497 non-null   float64\n",
      " 3   residual sugar        6497 non-null   float64\n",
      " 4   chlorides             6497 non-null   float64\n",
      " 5   free sulfur dioxide   6497 non-null   float64\n",
      " 6   total sulfur dioxide  6497 non-null   float64\n",
      " 7   density               6497 non-null   float64\n",
      " 8   pH                    6497 non-null   float64\n",
      " 9   sulphates             6497 non-null   float64\n",
      " 10  alcohol               6497 non-null   float64\n",
      " 11  quality               6497 non-null   int64  \n",
      " 12  good                  6497 non-null   int64  \n",
      " 13  color                 6497 non-null   object \n",
      "dtypes: float64(11), int64(2), object(1)\n",
      "memory usage: 710.7+ KB\n"
     ]
    }
   ],
   "source": [
    "df.info()"
   ]
  },
  {
   "cell_type": "code",
   "execution_count": 34,
   "id": "96b84a03",
   "metadata": {},
   "outputs": [
    {
     "data": {
      "text/plain": [
       "fixed acidity           0\n",
       "volatile acidity        0\n",
       "citric acid             0\n",
       "residual sugar          0\n",
       "chlorides               0\n",
       "free sulfur dioxide     0\n",
       "total sulfur dioxide    0\n",
       "density                 0\n",
       "pH                      0\n",
       "sulphates               0\n",
       "alcohol                 0\n",
       "quality                 0\n",
       "good                    0\n",
       "color                   0\n",
       "dtype: int64"
      ]
     },
     "execution_count": 34,
     "metadata": {},
     "output_type": "execute_result"
    }
   ],
   "source": [
    "df.isnull().sum()"
   ]
  },
  {
   "cell_type": "code",
   "execution_count": 35,
   "id": "b9688aac",
   "metadata": {},
   "outputs": [
    {
     "data": {
      "text/plain": [
       "1177"
      ]
     },
     "execution_count": 35,
     "metadata": {},
     "output_type": "execute_result"
    }
   ],
   "source": [
    "df.duplicated().sum()"
   ]
  },
  {
   "cell_type": "code",
   "execution_count": 36,
   "id": "87281d84",
   "metadata": {},
   "outputs": [],
   "source": [
    "df=df.drop_duplicates()"
   ]
  },
  {
   "cell_type": "code",
   "execution_count": 37,
   "id": "f2a005c5",
   "metadata": {},
   "outputs": [
    {
     "data": {
      "text/plain": [
       "(5320, 14)"
      ]
     },
     "execution_count": 37,
     "metadata": {},
     "output_type": "execute_result"
    }
   ],
   "source": [
    "df.shape"
   ]
  },
  {
   "cell_type": "code",
   "execution_count": 38,
   "id": "b9c0f2c4",
   "metadata": {},
   "outputs": [
    {
     "data": {
      "text/html": [
       "<div>\n",
       "<style scoped>\n",
       "    .dataframe tbody tr th:only-of-type {\n",
       "        vertical-align: middle;\n",
       "    }\n",
       "\n",
       "    .dataframe tbody tr th {\n",
       "        vertical-align: top;\n",
       "    }\n",
       "\n",
       "    .dataframe thead th {\n",
       "        text-align: right;\n",
       "    }\n",
       "</style>\n",
       "<table border=\"1\" class=\"dataframe\">\n",
       "  <thead>\n",
       "    <tr style=\"text-align: right;\">\n",
       "      <th></th>\n",
       "      <th>fixed acidity</th>\n",
       "      <th>volatile acidity</th>\n",
       "      <th>citric acid</th>\n",
       "      <th>residual sugar</th>\n",
       "      <th>chlorides</th>\n",
       "      <th>free sulfur dioxide</th>\n",
       "      <th>total sulfur dioxide</th>\n",
       "      <th>density</th>\n",
       "      <th>pH</th>\n",
       "      <th>sulphates</th>\n",
       "      <th>alcohol</th>\n",
       "      <th>quality</th>\n",
       "      <th>good</th>\n",
       "    </tr>\n",
       "  </thead>\n",
       "  <tbody>\n",
       "    <tr>\n",
       "      <th>count</th>\n",
       "      <td>5320.000000</td>\n",
       "      <td>5320.000000</td>\n",
       "      <td>5320.000000</td>\n",
       "      <td>5320.000000</td>\n",
       "      <td>5320.000000</td>\n",
       "      <td>5320.000000</td>\n",
       "      <td>5320.000000</td>\n",
       "      <td>5320.000000</td>\n",
       "      <td>5320.000000</td>\n",
       "      <td>5320.000000</td>\n",
       "      <td>5320.000000</td>\n",
       "      <td>5320.000000</td>\n",
       "      <td>5320.000000</td>\n",
       "    </tr>\n",
       "    <tr>\n",
       "      <th>mean</th>\n",
       "      <td>7.215179</td>\n",
       "      <td>0.344130</td>\n",
       "      <td>0.318494</td>\n",
       "      <td>5.048477</td>\n",
       "      <td>0.056690</td>\n",
       "      <td>30.036654</td>\n",
       "      <td>114.109023</td>\n",
       "      <td>0.994535</td>\n",
       "      <td>3.224664</td>\n",
       "      <td>0.533357</td>\n",
       "      <td>10.549241</td>\n",
       "      <td>5.795677</td>\n",
       "      <td>0.189662</td>\n",
       "    </tr>\n",
       "    <tr>\n",
       "      <th>std</th>\n",
       "      <td>1.319671</td>\n",
       "      <td>0.168248</td>\n",
       "      <td>0.147157</td>\n",
       "      <td>4.500180</td>\n",
       "      <td>0.036863</td>\n",
       "      <td>17.805045</td>\n",
       "      <td>56.774223</td>\n",
       "      <td>0.002966</td>\n",
       "      <td>0.160379</td>\n",
       "      <td>0.149743</td>\n",
       "      <td>1.185933</td>\n",
       "      <td>0.879772</td>\n",
       "      <td>0.392070</td>\n",
       "    </tr>\n",
       "    <tr>\n",
       "      <th>min</th>\n",
       "      <td>3.800000</td>\n",
       "      <td>0.080000</td>\n",
       "      <td>0.000000</td>\n",
       "      <td>0.600000</td>\n",
       "      <td>0.009000</td>\n",
       "      <td>1.000000</td>\n",
       "      <td>6.000000</td>\n",
       "      <td>0.987110</td>\n",
       "      <td>2.720000</td>\n",
       "      <td>0.220000</td>\n",
       "      <td>8.000000</td>\n",
       "      <td>3.000000</td>\n",
       "      <td>0.000000</td>\n",
       "    </tr>\n",
       "    <tr>\n",
       "      <th>25%</th>\n",
       "      <td>6.400000</td>\n",
       "      <td>0.230000</td>\n",
       "      <td>0.240000</td>\n",
       "      <td>1.800000</td>\n",
       "      <td>0.038000</td>\n",
       "      <td>16.000000</td>\n",
       "      <td>74.000000</td>\n",
       "      <td>0.992200</td>\n",
       "      <td>3.110000</td>\n",
       "      <td>0.430000</td>\n",
       "      <td>9.500000</td>\n",
       "      <td>5.000000</td>\n",
       "      <td>0.000000</td>\n",
       "    </tr>\n",
       "    <tr>\n",
       "      <th>50%</th>\n",
       "      <td>7.000000</td>\n",
       "      <td>0.300000</td>\n",
       "      <td>0.310000</td>\n",
       "      <td>2.700000</td>\n",
       "      <td>0.047000</td>\n",
       "      <td>28.000000</td>\n",
       "      <td>116.000000</td>\n",
       "      <td>0.994650</td>\n",
       "      <td>3.210000</td>\n",
       "      <td>0.510000</td>\n",
       "      <td>10.400000</td>\n",
       "      <td>6.000000</td>\n",
       "      <td>0.000000</td>\n",
       "    </tr>\n",
       "    <tr>\n",
       "      <th>75%</th>\n",
       "      <td>7.700000</td>\n",
       "      <td>0.410000</td>\n",
       "      <td>0.400000</td>\n",
       "      <td>7.500000</td>\n",
       "      <td>0.066000</td>\n",
       "      <td>41.000000</td>\n",
       "      <td>153.250000</td>\n",
       "      <td>0.996770</td>\n",
       "      <td>3.330000</td>\n",
       "      <td>0.600000</td>\n",
       "      <td>11.400000</td>\n",
       "      <td>6.000000</td>\n",
       "      <td>0.000000</td>\n",
       "    </tr>\n",
       "    <tr>\n",
       "      <th>max</th>\n",
       "      <td>15.900000</td>\n",
       "      <td>1.580000</td>\n",
       "      <td>1.660000</td>\n",
       "      <td>65.800000</td>\n",
       "      <td>0.611000</td>\n",
       "      <td>289.000000</td>\n",
       "      <td>440.000000</td>\n",
       "      <td>1.038980</td>\n",
       "      <td>4.010000</td>\n",
       "      <td>2.000000</td>\n",
       "      <td>14.900000</td>\n",
       "      <td>9.000000</td>\n",
       "      <td>1.000000</td>\n",
       "    </tr>\n",
       "  </tbody>\n",
       "</table>\n",
       "</div>"
      ],
      "text/plain": [
       "       fixed acidity  volatile acidity  citric acid  residual sugar  \\\n",
       "count    5320.000000       5320.000000  5320.000000     5320.000000   \n",
       "mean        7.215179          0.344130     0.318494        5.048477   \n",
       "std         1.319671          0.168248     0.147157        4.500180   \n",
       "min         3.800000          0.080000     0.000000        0.600000   \n",
       "25%         6.400000          0.230000     0.240000        1.800000   \n",
       "50%         7.000000          0.300000     0.310000        2.700000   \n",
       "75%         7.700000          0.410000     0.400000        7.500000   \n",
       "max        15.900000          1.580000     1.660000       65.800000   \n",
       "\n",
       "         chlorides  free sulfur dioxide  total sulfur dioxide      density  \\\n",
       "count  5320.000000          5320.000000           5320.000000  5320.000000   \n",
       "mean      0.056690            30.036654            114.109023     0.994535   \n",
       "std       0.036863            17.805045             56.774223     0.002966   \n",
       "min       0.009000             1.000000              6.000000     0.987110   \n",
       "25%       0.038000            16.000000             74.000000     0.992200   \n",
       "50%       0.047000            28.000000            116.000000     0.994650   \n",
       "75%       0.066000            41.000000            153.250000     0.996770   \n",
       "max       0.611000           289.000000            440.000000     1.038980   \n",
       "\n",
       "                pH    sulphates      alcohol      quality         good  \n",
       "count  5320.000000  5320.000000  5320.000000  5320.000000  5320.000000  \n",
       "mean      3.224664     0.533357    10.549241     5.795677     0.189662  \n",
       "std       0.160379     0.149743     1.185933     0.879772     0.392070  \n",
       "min       2.720000     0.220000     8.000000     3.000000     0.000000  \n",
       "25%       3.110000     0.430000     9.500000     5.000000     0.000000  \n",
       "50%       3.210000     0.510000    10.400000     6.000000     0.000000  \n",
       "75%       3.330000     0.600000    11.400000     6.000000     0.000000  \n",
       "max       4.010000     2.000000    14.900000     9.000000     1.000000  "
      ]
     },
     "execution_count": 38,
     "metadata": {},
     "output_type": "execute_result"
    }
   ],
   "source": [
    "df.describe()"
   ]
  },
  {
   "cell_type": "code",
   "execution_count": 39,
   "id": "970f8129",
   "metadata": {},
   "outputs": [
    {
     "data": {
      "text/plain": [
       "Index(['fixed acidity', 'volatile acidity', 'citric acid', 'residual sugar',\n",
       "       'chlorides', 'free sulfur dioxide', 'total sulfur dioxide', 'density',\n",
       "       'pH', 'sulphates', 'alcohol', 'quality', 'good', 'color'],\n",
       "      dtype='object')"
      ]
     },
     "execution_count": 39,
     "metadata": {},
     "output_type": "execute_result"
    }
   ],
   "source": [
    "df.columns"
   ]
  },
  {
   "cell_type": "code",
   "execution_count": 40,
   "id": "abb2c4e0",
   "metadata": {},
   "outputs": [],
   "source": [
    "object_cols = df.select_dtypes(include = ['object'])"
   ]
  },
  {
   "cell_type": "code",
   "execution_count": 41,
   "id": "7ebb06ca",
   "metadata": {},
   "outputs": [
    {
     "data": {
      "text/plain": [
       "Index(['color'], dtype='object')"
      ]
     },
     "execution_count": 41,
     "metadata": {},
     "output_type": "execute_result"
    }
   ],
   "source": [
    "object_cols.columns"
   ]
  },
  {
   "cell_type": "code",
   "execution_count": 42,
   "id": "060f6b1d",
   "metadata": {},
   "outputs": [],
   "source": [
    "def discrete_univariate_analysis(discrete_data):\n",
    "    for col_name in discrete_data:\n",
    "        print(\"*\"*10, col_name, \"*\"*10)\n",
    "        print(discrete_data[col_name].agg(['count', 'nunique', 'unique']))\n",
    "        print('Value Counts: \\n', discrete_data[col_name].value_counts(normalize = True)*100)\n",
    "        print()"
   ]
  },
  {
   "cell_type": "code",
   "execution_count": 43,
   "id": "f1ec1acf",
   "metadata": {},
   "outputs": [
    {
     "name": "stdout",
     "output_type": "stream",
     "text": [
      "********** color **********\n",
      "count              5320\n",
      "nunique               2\n",
      "unique     [red, white]\n",
      "Name: color, dtype: object\n",
      "Value Counts: \n",
      " white    74.454887\n",
      "red      25.545113\n",
      "Name: color, dtype: float64\n",
      "\n"
     ]
    }
   ],
   "source": [
    "discrete_univariate_analysis(object_cols)"
   ]
  },
  {
   "cell_type": "code",
   "execution_count": 44,
   "id": "6196c926",
   "metadata": {},
   "outputs": [
    {
     "data": {
      "image/png": "[encoded data removed]",
      "text/plain": [
       "<Figure size 864x432 with 1 Axes>"
      ]
     },
     "metadata": {
      "needs_background": "light"
     },
     "output_type": "display_data"
    }
   ],
   "source": [
    "for col in object_cols:\n",
    "    plt.figure(figsize=(12, 6))\n",
    "    sns.countplot(x=col, data=df)\n",
    "    plt.title(f'{col}')"
   ]
  },
  {
   "cell_type": "code",
   "execution_count": 45,
   "id": "2abab2ec",
   "metadata": {},
   "outputs": [
    {
     "name": "stdout",
     "output_type": "stream",
     "text": [
      "color  color\n",
      "red    red      1359\n",
      "white  white    3961\n",
      "Name: color, dtype: int64\n"
     ]
    }
   ],
   "source": [
    "for col in object_cols:\n",
    "    var = df.groupby('color')\n",
    "    print(var[col].value_counts())"
   ]
  },
  {
   "cell_type": "code",
   "execution_count": 46,
   "id": "6a6d3a5a",
   "metadata": {},
   "outputs": [],
   "source": [
    "numerical_cols = df.select_dtypes(include = ['int64','float64'])"
   ]
  },
  {
   "cell_type": "code",
   "execution_count": 47,
   "id": "c10f7e13",
   "metadata": {},
   "outputs": [
    {
     "data": {
      "text/plain": [
       "Index(['fixed acidity', 'volatile acidity', 'citric acid', 'residual sugar',\n",
       "       'chlorides', 'free sulfur dioxide', 'total sulfur dioxide', 'density',\n",
       "       'pH', 'sulphates', 'alcohol', 'quality', 'good'],\n",
       "      dtype='object')"
      ]
     },
     "execution_count": 47,
     "metadata": {},
     "output_type": "execute_result"
    }
   ],
   "source": [
    "numerical_cols.columns"
   ]
  },
  {
   "cell_type": "code",
   "execution_count": 48,
   "id": "c8046b36",
   "metadata": {},
   "outputs": [],
   "source": [
    "def numerical_univariate_analysis(numerical_data):\n",
    "    for col_name in numerical_data:\n",
    "        print(\"*\"*10, col_name, \"*\"*10)\n",
    "        print(numerical_data[col_name].agg(['count','min', 'max', 'mean', 'median', 'std','skew','kurt']))\n",
    "        print()"
   ]
  },
  {
   "cell_type": "code",
   "execution_count": 49,
   "id": "1cdb1ff8",
   "metadata": {},
   "outputs": [
    {
     "name": "stdout",
     "output_type": "stream",
     "text": [
      "********** fixed acidity **********\n",
      "count     5320.000000\n",
      "min          3.800000\n",
      "max         15.900000\n",
      "mean         7.215179\n",
      "median       7.000000\n",
      "std          1.319671\n",
      "skew         1.650417\n",
      "kurt         4.589079\n",
      "Name: fixed acidity, dtype: float64\n",
      "\n",
      "********** volatile acidity **********\n",
      "count     5320.000000\n",
      "min          0.080000\n",
      "max          1.580000\n",
      "mean         0.344130\n",
      "median       0.300000\n",
      "std          0.168248\n",
      "skew         1.504557\n",
      "kurt         2.863175\n",
      "Name: volatile acidity, dtype: float64\n",
      "\n",
      "********** citric acid **********\n",
      "count     5320.000000\n",
      "min          0.000000\n",
      "max          1.660000\n",
      "mean         0.318494\n",
      "median       0.310000\n",
      "std          0.147157\n",
      "skew         0.484309\n",
      "kurt         2.582471\n",
      "Name: citric acid, dtype: float64\n",
      "\n",
      "********** residual sugar **********\n",
      "count     5320.000000\n",
      "min          0.600000\n",
      "max         65.800000\n",
      "mean         5.048477\n",
      "median       2.700000\n",
      "std          4.500180\n",
      "skew         1.706550\n",
      "kurt         7.025595\n",
      "Name: residual sugar, dtype: float64\n",
      "\n",
      "********** chlorides **********\n",
      "count     5320.000000\n",
      "min          0.009000\n",
      "max          0.611000\n",
      "mean         0.056690\n",
      "median       0.047000\n",
      "std          0.036863\n",
      "skew         5.338237\n",
      "kurt        48.260708\n",
      "Name: chlorides, dtype: float64\n",
      "\n",
      "********** free sulfur dioxide **********\n",
      "count     5320.000000\n",
      "min          1.000000\n",
      "max        289.000000\n",
      "mean        30.036654\n",
      "median      28.000000\n",
      "std         17.805045\n",
      "skew         1.362719\n",
      "kurt         9.520706\n",
      "Name: free sulfur dioxide, dtype: float64\n",
      "\n",
      "********** total sulfur dioxide **********\n",
      "count     5320.000000\n",
      "min          6.000000\n",
      "max        440.000000\n",
      "mean       114.109023\n",
      "median     116.000000\n",
      "std         56.774223\n",
      "skew         0.063614\n",
      "kurt        -0.299997\n",
      "Name: total sulfur dioxide, dtype: float64\n",
      "\n",
      "********** density **********\n",
      "count     5320.000000\n",
      "min          0.987110\n",
      "max          1.038980\n",
      "mean         0.994535\n",
      "median       0.994650\n",
      "std          0.002966\n",
      "skew         0.666326\n",
      "kurt         8.711498\n",
      "Name: density, dtype: float64\n",
      "\n",
      "********** pH **********\n",
      "count     5320.000000\n",
      "min          2.720000\n",
      "max          4.010000\n",
      "mean         3.224664\n",
      "median       3.210000\n",
      "std          0.160379\n",
      "skew         0.389969\n",
      "kurt         0.431811\n",
      "Name: pH, dtype: float64\n",
      "\n",
      "********** sulphates **********\n",
      "count     5320.000000\n",
      "min          0.220000\n",
      "max          2.000000\n",
      "mean         0.533357\n",
      "median       0.510000\n",
      "std          0.149743\n",
      "skew         1.809454\n",
      "kurt         8.612917\n",
      "Name: sulphates, dtype: float64\n",
      "\n",
      "********** alcohol **********\n",
      "count     5320.000000\n",
      "min          8.000000\n",
      "max         14.900000\n",
      "mean        10.549241\n",
      "median      10.400000\n",
      "std          1.185933\n",
      "skew         0.545696\n",
      "kurt        -0.538169\n",
      "Name: alcohol, dtype: float64\n",
      "\n",
      "********** quality **********\n",
      "count     5320.000000\n",
      "min          3.000000\n",
      "max          9.000000\n",
      "mean         5.795677\n",
      "median       6.000000\n",
      "std          0.879772\n",
      "skew         0.147467\n",
      "kurt         0.298100\n",
      "Name: quality, dtype: float64\n",
      "\n",
      "********** good **********\n",
      "count     5320.000000\n",
      "min          0.000000\n",
      "max          1.000000\n",
      "mean         0.189662\n",
      "median       0.000000\n",
      "std          0.392070\n",
      "skew         1.583671\n",
      "kurt         0.508205\n",
      "Name: good, dtype: float64\n",
      "\n"
     ]
    }
   ],
   "source": [
    "numerical_univariate_analysis(numerical_cols)"
   ]
  },
  {
   "cell_type": "code",
   "execution_count": 50,
   "id": "340eee03",
   "metadata": {},
   "outputs": [
    {
     "data": {
      "text/html": [
       "<div>\n",
       "<style scoped>\n",
       "    .dataframe tbody tr th:only-of-type {\n",
       "        vertical-align: middle;\n",
       "    }\n",
       "\n",
       "    .dataframe tbody tr th {\n",
       "        vertical-align: top;\n",
       "    }\n",
       "\n",
       "    .dataframe thead th {\n",
       "        text-align: right;\n",
       "    }\n",
       "</style>\n",
       "<table border=\"1\" class=\"dataframe\">\n",
       "  <thead>\n",
       "    <tr style=\"text-align: right;\">\n",
       "      <th></th>\n",
       "      <th>fixed acidity</th>\n",
       "      <th>volatile acidity</th>\n",
       "      <th>citric acid</th>\n",
       "      <th>residual sugar</th>\n",
       "      <th>chlorides</th>\n",
       "      <th>free sulfur dioxide</th>\n",
       "      <th>total sulfur dioxide</th>\n",
       "      <th>density</th>\n",
       "      <th>pH</th>\n",
       "      <th>sulphates</th>\n",
       "      <th>alcohol</th>\n",
       "      <th>quality</th>\n",
       "      <th>good</th>\n",
       "    </tr>\n",
       "  </thead>\n",
       "  <tbody>\n",
       "    <tr>\n",
       "      <th>count</th>\n",
       "      <td>5320.000000</td>\n",
       "      <td>5320.000000</td>\n",
       "      <td>5320.000000</td>\n",
       "      <td>5320.000000</td>\n",
       "      <td>5320.000000</td>\n",
       "      <td>5320.000000</td>\n",
       "      <td>5320.000000</td>\n",
       "      <td>5320.000000</td>\n",
       "      <td>5320.000000</td>\n",
       "      <td>5320.000000</td>\n",
       "      <td>5320.000000</td>\n",
       "      <td>5320.000000</td>\n",
       "      <td>5320.000000</td>\n",
       "    </tr>\n",
       "    <tr>\n",
       "      <th>mean</th>\n",
       "      <td>7.215179</td>\n",
       "      <td>0.344130</td>\n",
       "      <td>0.318494</td>\n",
       "      <td>5.048477</td>\n",
       "      <td>0.056690</td>\n",
       "      <td>30.036654</td>\n",
       "      <td>114.109023</td>\n",
       "      <td>0.994535</td>\n",
       "      <td>3.224664</td>\n",
       "      <td>0.533357</td>\n",
       "      <td>10.549241</td>\n",
       "      <td>5.795677</td>\n",
       "      <td>0.189662</td>\n",
       "    </tr>\n",
       "    <tr>\n",
       "      <th>std</th>\n",
       "      <td>1.319671</td>\n",
       "      <td>0.168248</td>\n",
       "      <td>0.147157</td>\n",
       "      <td>4.500180</td>\n",
       "      <td>0.036863</td>\n",
       "      <td>17.805045</td>\n",
       "      <td>56.774223</td>\n",
       "      <td>0.002966</td>\n",
       "      <td>0.160379</td>\n",
       "      <td>0.149743</td>\n",
       "      <td>1.185933</td>\n",
       "      <td>0.879772</td>\n",
       "      <td>0.392070</td>\n",
       "    </tr>\n",
       "    <tr>\n",
       "      <th>min</th>\n",
       "      <td>3.800000</td>\n",
       "      <td>0.080000</td>\n",
       "      <td>0.000000</td>\n",
       "      <td>0.600000</td>\n",
       "      <td>0.009000</td>\n",
       "      <td>1.000000</td>\n",
       "      <td>6.000000</td>\n",
       "      <td>0.987110</td>\n",
       "      <td>2.720000</td>\n",
       "      <td>0.220000</td>\n",
       "      <td>8.000000</td>\n",
       "      <td>3.000000</td>\n",
       "      <td>0.000000</td>\n",
       "    </tr>\n",
       "    <tr>\n",
       "      <th>25%</th>\n",
       "      <td>6.400000</td>\n",
       "      <td>0.230000</td>\n",
       "      <td>0.240000</td>\n",
       "      <td>1.800000</td>\n",
       "      <td>0.038000</td>\n",
       "      <td>16.000000</td>\n",
       "      <td>74.000000</td>\n",
       "      <td>0.992200</td>\n",
       "      <td>3.110000</td>\n",
       "      <td>0.430000</td>\n",
       "      <td>9.500000</td>\n",
       "      <td>5.000000</td>\n",
       "      <td>0.000000</td>\n",
       "    </tr>\n",
       "    <tr>\n",
       "      <th>50%</th>\n",
       "      <td>7.000000</td>\n",
       "      <td>0.300000</td>\n",
       "      <td>0.310000</td>\n",
       "      <td>2.700000</td>\n",
       "      <td>0.047000</td>\n",
       "      <td>28.000000</td>\n",
       "      <td>116.000000</td>\n",
       "      <td>0.994650</td>\n",
       "      <td>3.210000</td>\n",
       "      <td>0.510000</td>\n",
       "      <td>10.400000</td>\n",
       "      <td>6.000000</td>\n",
       "      <td>0.000000</td>\n",
       "    </tr>\n",
       "    <tr>\n",
       "      <th>75%</th>\n",
       "      <td>7.700000</td>\n",
       "      <td>0.410000</td>\n",
       "      <td>0.400000</td>\n",
       "      <td>7.500000</td>\n",
       "      <td>0.066000</td>\n",
       "      <td>41.000000</td>\n",
       "      <td>153.250000</td>\n",
       "      <td>0.996770</td>\n",
       "      <td>3.330000</td>\n",
       "      <td>0.600000</td>\n",
       "      <td>11.400000</td>\n",
       "      <td>6.000000</td>\n",
       "      <td>0.000000</td>\n",
       "    </tr>\n",
       "    <tr>\n",
       "      <th>max</th>\n",
       "      <td>15.900000</td>\n",
       "      <td>1.580000</td>\n",
       "      <td>1.660000</td>\n",
       "      <td>65.800000</td>\n",
       "      <td>0.611000</td>\n",
       "      <td>289.000000</td>\n",
       "      <td>440.000000</td>\n",
       "      <td>1.038980</td>\n",
       "      <td>4.010000</td>\n",
       "      <td>2.000000</td>\n",
       "      <td>14.900000</td>\n",
       "      <td>9.000000</td>\n",
       "      <td>1.000000</td>\n",
       "    </tr>\n",
       "  </tbody>\n",
       "</table>\n",
       "</div>"
      ],
      "text/plain": [
       "       fixed acidity  volatile acidity  citric acid  residual sugar  \\\n",
       "count    5320.000000       5320.000000  5320.000000     5320.000000   \n",
       "mean        7.215179          0.344130     0.318494        5.048477   \n",
       "std         1.319671          0.168248     0.147157        4.500180   \n",
       "min         3.800000          0.080000     0.000000        0.600000   \n",
       "25%         6.400000          0.230000     0.240000        1.800000   \n",
       "50%         7.000000          0.300000     0.310000        2.700000   \n",
       "75%         7.700000          0.410000     0.400000        7.500000   \n",
       "max        15.900000          1.580000     1.660000       65.800000   \n",
       "\n",
       "         chlorides  free sulfur dioxide  total sulfur dioxide      density  \\\n",
       "count  5320.000000          5320.000000           5320.000000  5320.000000   \n",
       "mean      0.056690            30.036654            114.109023     0.994535   \n",
       "std       0.036863            17.805045             56.774223     0.002966   \n",
       "min       0.009000             1.000000              6.000000     0.987110   \n",
       "25%       0.038000            16.000000             74.000000     0.992200   \n",
       "50%       0.047000            28.000000            116.000000     0.994650   \n",
       "75%       0.066000            41.000000            153.250000     0.996770   \n",
       "max       0.611000           289.000000            440.000000     1.038980   \n",
       "\n",
       "                pH    sulphates      alcohol      quality         good  \n",
       "count  5320.000000  5320.000000  5320.000000  5320.000000  5320.000000  \n",
       "mean      3.224664     0.533357    10.549241     5.795677     0.189662  \n",
       "std       0.160379     0.149743     1.185933     0.879772     0.392070  \n",
       "min       2.720000     0.220000     8.000000     3.000000     0.000000  \n",
       "25%       3.110000     0.430000     9.500000     5.000000     0.000000  \n",
       "50%       3.210000     0.510000    10.400000     6.000000     0.000000  \n",
       "75%       3.330000     0.600000    11.400000     6.000000     0.000000  \n",
       "max       4.010000     2.000000    14.900000     9.000000     1.000000  "
      ]
     },
     "execution_count": 50,
     "metadata": {},
     "output_type": "execute_result"
    }
   ],
   "source": [
    "df.describe()"
   ]
  },
  {
   "cell_type": "code",
   "execution_count": 52,
   "id": "550649ac",
   "metadata": {},
   "outputs": [],
   "source": [
    "#numerical_columns = df_.select_dtypes(include=['float64', 'int64']).columns\n",
    "\n",
    "# Function to remove outliers using IQR method\n",
    "def remove_outliers(df, column):\n",
    "    Q1 = df[column].quantile(0.25)\n",
    "    Q3 = df[column].quantile(0.75)\n",
    "    IQR = Q3 - Q1\n",
    "    lower_bound = Q1 - 1.5 * IQR\n",
    "    upper_bound = Q3 + 1.5 * IQR\n",
    "    return df[(df[column] >= lower_bound) & (df[column] <= upper_bound)]\n",
    "\n",
    "# Remove outliers from all numerical columns\n",
    "data_no_outliers = df.copy()  # Create a copy of the original data\n",
    "for column in numerical_cols:\n",
    "    data_no_outliers = remove_outliers(data_no_outliers, column)"
   ]
  },
  {
   "cell_type": "code",
   "execution_count": 54,
   "id": "c1fc9aef",
   "metadata": {},
   "outputs": [
    {
     "data": {
      "text/plain": [
       "fixed acidity              AxesSubplot(0.125,0.787927;0.352273x0.0920732)\n",
       "volatile acidity        AxesSubplot(0.547727,0.787927;0.352273x0.0920732)\n",
       "citric acid                AxesSubplot(0.125,0.677439;0.352273x0.0920732)\n",
       "residual sugar          AxesSubplot(0.547727,0.677439;0.352273x0.0920732)\n",
       "chlorides                  AxesSubplot(0.125,0.566951;0.352273x0.0920732)\n",
       "free sulfur dioxide     AxesSubplot(0.547727,0.566951;0.352273x0.0920732)\n",
       "total sulfur dioxide       AxesSubplot(0.125,0.456463;0.352273x0.0920732)\n",
       "density                 AxesSubplot(0.547727,0.456463;0.352273x0.0920732)\n",
       "pH                         AxesSubplot(0.125,0.345976;0.352273x0.0920732)\n",
       "sulphates               AxesSubplot(0.547727,0.345976;0.352273x0.0920732)\n",
       "alcohol                    AxesSubplot(0.125,0.235488;0.352273x0.0920732)\n",
       "quality                 AxesSubplot(0.547727,0.235488;0.352273x0.0920732)\n",
       "good                          AxesSubplot(0.125,0.125;0.352273x0.0920732)\n",
       "dtype: object"
      ]
     },
     "execution_count": 54,
     "metadata": {},
     "output_type": "execute_result"
    },
    {
     "data": {
      "image/png": "[encoded data removed]",
      "text/plain": [
       "<Figure size 864x1296 with 14 Axes>"
      ]
     },
     "metadata": {
      "needs_background": "light"
     },
     "output_type": "display_data"
    }
   ],
   "source": [
    "data_no_outliers.plot(kind='box', subplots=True, layout=(7, 2), figsize=(12, 18))"
   ]
  },
  {
   "cell_type": "code",
   "execution_count": 56,
   "id": "0eaea5c7",
   "metadata": {},
   "outputs": [
    {
     "data": {
      "image/png": "[encoded data removed]",
      "text/plain": [
       "<Figure size 864x432 with 1 Axes>"
      ]
     },
     "metadata": {
      "needs_background": "light"
     },
     "output_type": "display_data"
    },
    {
     "data": {
      "image/png": "[encoded data removed]",
      "text/plain": [
       "<Figure size 864x432 with 1 Axes>"
      ]
     },
     "metadata": {
      "needs_background": "light"
     },
     "output_type": "display_data"
    },
    {
     "data": {
      "image/png": "[encoded data removed]",
      "text/plain": [
       "<Figure size 864x432 with 1 Axes>"
      ]
     },
     "metadata": {
      "needs_background": "light"
     },
     "output_type": "display_data"
    },
    {
     "data": {
      "image/png": "[encoded data removed]",
      "text/plain": [
       "<Figure size 864x432 with 1 Axes>"
      ]
     },
     "metadata": {
      "needs_background": "light"
     },
     "output_type": "display_data"
    },
    {
     "data": {
      "image/png": "[encoded data removed]",
      "text/plain": [
       "<Figure size 864x432 with 1 Axes>"
      ]
     },
     "metadata": {
      "needs_background": "light"
     },
     "output_type": "display_data"
    },
    {
     "data": {
      "image/png": "[encoded data removed]",
      "text/plain": [
       "<Figure size 864x432 with 1 Axes>"
      ]
     },
     "metadata": {
      "needs_background": "light"
     },
     "output_type": "display_data"
    },
    {
     "data": {
      "image/png": "[encoded data removed]",
      "text/plain": [
       "<Figure size 864x432 with 1 Axes>"
      ]
     },
     "metadata": {
      "needs_background": "light"
     },
     "output_type": "display_data"
    },
    {
     "data": {
      "image/png": "[encoded data removed]",
      "text/plain": [
       "<Figure size 864x432 with 1 Axes>"
      ]
     },
     "metadata": {
      "needs_background": "light"
     },
     "output_type": "display_data"
    },
    {
     "data": {
      "image/png": "[encoded data removed]",
      "text/plain": [
       "<Figure size 864x432 with 1 Axes>"
      ]
     },
     "metadata": {
      "needs_background": "light"
     },
     "output_type": "display_data"
    },
    {
     "data": {
      "image/png": "[encoded data removed]",
      "text/plain": [
       "<Figure size 864x432 with 1 Axes>"
      ]
     },
     "metadata": {
      "needs_background": "light"
     },
     "output_type": "display_data"
    },
    {
     "data": {
      "image/png": "[encoded data removed]",
      "text/plain": [
       "<Figure size 864x432 with 1 Axes>"
      ]
     },
     "metadata": {
      "needs_background": "light"
     },
     "output_type": "display_data"
    },
    {
     "data": {
      "image/png": "[encoded data removed]",
      "text/plain": [
       "<Figure size 864x432 with 1 Axes>"
      ]
     },
     "metadata": {
      "needs_background": "light"
     },
     "output_type": "display_data"
    },
    {
     "data": {
      "image/png": "[encoded data removed]",
      "text/plain": [
       "<Figure size 864x432 with 1 Axes>"
      ]
     },
     "metadata": {
      "needs_background": "light"
     },
     "output_type": "display_data"
    }
   ],
   "source": [
    "for col in numerical_cols:\n",
    "    plt.figure(figsize=(12, 6))\n",
    "    sns.barplot(x='quality', y=col, data=data_no_outliers, estimator=np.median)"
   ]
  },
  {
   "cell_type": "code",
   "execution_count": 57,
   "id": "6653d2fc",
   "metadata": {
    "scrolled": false
   },
   "outputs": [
    {
     "data": {
      "image/png": "[encoded data removed]",
      "text/plain": [
       "<Figure size 576x288 with 1 Axes>"
      ]
     },
     "metadata": {
      "needs_background": "light"
     },
     "output_type": "display_data"
    },
    {
     "data": {
      "image/png": "[encoded data removed]",
      "text/plain": [
       "<Figure size 576x288 with 1 Axes>"
      ]
     },
     "metadata": {
      "needs_background": "light"
     },
     "output_type": "display_data"
    },
    {
     "data": {
      "image/png": "[encoded data removed]",
      "text/plain": [
       "<Figure size 576x288 with 1 Axes>"
      ]
     },
     "metadata": {
      "needs_background": "light"
     },
     "output_type": "display_data"
    },
    {
     "data": {
      "image/png": "[encoded data removed]",
      "text/plain": [
       "<Figure size 576x288 with 1 Axes>"
      ]
     },
     "metadata": {
      "needs_background": "light"
     },
     "output_type": "display_data"
    },
    {
     "data": {
      "image/png": "[encoded data removed]",
      "text/plain": [
       "<Figure size 576x288 with 1 Axes>"
      ]
     },
     "metadata": {
      "needs_background": "light"
     },
     "output_type": "display_data"
    },
    {
     "data": {
      "image/png": "[encoded data removed]",
      "text/plain": [
       "<Figure size 576x288 with 1 Axes>"
      ]
     },
     "metadata": {
      "needs_background": "light"
     },
     "output_type": "display_data"
    },
    {
     "data": {
      "image/png": "[encoded data removed]",
      "text/plain": [
       "<Figure size 576x288 with 1 Axes>"
      ]
     },
     "metadata": {
      "needs_background": "light"
     },
     "output_type": "display_data"
    },
    {
     "data": {
      "image/png": "[encoded data removed]",
      "text/plain": [
       "<Figure size 576x288 with 1 Axes>"
      ]
     },
     "metadata": {
      "needs_background": "light"
     },
     "output_type": "display_data"
    },
    {
     "data": {
      "image/png": "[encoded data removed]",
      "text/plain": [
       "<Figure size 576x288 with 1 Axes>"
      ]
     },
     "metadata": {
      "needs_background": "light"
     },
     "output_type": "display_data"
    },
    {
     "data": {
      "image/png": "[encoded data removed]",
      "text/plain": [
       "<Figure size 576x288 with 1 Axes>"
      ]
     },
     "metadata": {
      "needs_background": "light"
     },
     "output_type": "display_data"
    },
    {
     "data": {
      "image/png": "[encoded data removed]",
      "text/plain": [
       "<Figure size 576x288 with 1 Axes>"
      ]
     },
     "metadata": {
      "needs_background": "light"
     },
     "output_type": "display_data"
    },
    {
     "data": {
      "image/png": "[encoded data removed]",
      "text/plain": [
       "<Figure size 576x288 with 1 Axes>"
      ]
     },
     "metadata": {
      "needs_background": "light"
     },
     "output_type": "display_data"
    },
    {
     "data": {
      "image/png": "[encoded data removed]",
      "text/plain": [
       "<Figure size 576x288 with 1 Axes>"
      ]
     },
     "metadata": {
      "needs_background": "light"
     },
     "output_type": "display_data"
    }
   ],
   "source": [
    "for col in numerical_cols:\n",
    "    plt.figure(figsize=(8, 4))\n",
    "    sns.boxplot(x='quality', y=col, data=data_no_outliers)"
   ]
  },
  {
   "cell_type": "code",
   "execution_count": 59,
   "id": "fe2cd522",
   "metadata": {},
   "outputs": [
    {
     "data": {
      "image/png": "[encoded data removed]",
      "text/plain": [
       "<Figure size 576x432 with 1 Axes>"
      ]
     },
     "metadata": {
      "needs_background": "light"
     },
     "output_type": "display_data"
    }
   ],
   "source": [
    "plt.figure(figsize=(8, 6))\n",
    "sns.kdeplot(data=data_no_outliers, x='fixed acidity', hue='color', fill=True, common_norm=False, palette='viridis')\n",
    "plt.xlabel('Fixed Acidity')\n",
    "plt.ylabel('Density')\n",
    "plt.title('KDE Plot for Fixed Acidity by Wine Quality')\n",
    "plt.legend([\"fixed acidity\",\"color\"],loc='upper right')\n",
    "plt.show()\n"
   ]
  },
  {
   "cell_type": "code",
   "execution_count": 64,
   "id": "34f89cae",
   "metadata": {},
   "outputs": [
    {
     "data": {
      "text/plain": [
       "count    5320.000000\n",
       "mean        3.224664\n",
       "std         0.160379\n",
       "min         2.720000\n",
       "25%         3.110000\n",
       "50%         3.210000\n",
       "75%         3.330000\n",
       "max         4.010000\n",
       "Name: pH, dtype: float64"
      ]
     },
     "execution_count": 64,
     "metadata": {},
     "output_type": "execute_result"
    }
   ],
   "source": [
    "df['pH'].describe()"
   ]
  },
  {
   "cell_type": "code",
   "execution_count": 66,
   "id": "b2ad8860",
   "metadata": {},
   "outputs": [],
   "source": [
    "bin_edges = [ 2.72, 3.11,3.21 , 3.33,4.01 ] # Filling this list with five values of pH\n",
    "bin_names = [ 'High','Moderately High' ,'Medium' ,'Low' ]\n"
   ]
  },
  {
   "cell_type": "code",
   "execution_count": 67,
   "id": "dc54a9df",
   "metadata": {},
   "outputs": [],
   "source": [
    "df['acidity_levels'] = pd.cut(df['pH'], bin_edges, labels=bin_names)\n"
   ]
  },
  {
   "cell_type": "code",
   "execution_count": 68,
   "id": "97734e1a",
   "metadata": {},
   "outputs": [
    {
     "data": {
      "text/html": [
       "<div>\n",
       "<style scoped>\n",
       "    .dataframe tbody tr th:only-of-type {\n",
       "        vertical-align: middle;\n",
       "    }\n",
       "\n",
       "    .dataframe tbody tr th {\n",
       "        vertical-align: top;\n",
       "    }\n",
       "\n",
       "    .dataframe thead th {\n",
       "        text-align: right;\n",
       "    }\n",
       "</style>\n",
       "<table border=\"1\" class=\"dataframe\">\n",
       "  <thead>\n",
       "    <tr style=\"text-align: right;\">\n",
       "      <th></th>\n",
       "      <th>fixed acidity</th>\n",
       "      <th>volatile acidity</th>\n",
       "      <th>citric acid</th>\n",
       "      <th>residual sugar</th>\n",
       "      <th>chlorides</th>\n",
       "      <th>free sulfur dioxide</th>\n",
       "      <th>total sulfur dioxide</th>\n",
       "      <th>density</th>\n",
       "      <th>pH</th>\n",
       "      <th>sulphates</th>\n",
       "      <th>alcohol</th>\n",
       "      <th>quality</th>\n",
       "      <th>good</th>\n",
       "      <th>color</th>\n",
       "      <th>acidity_levels</th>\n",
       "    </tr>\n",
       "  </thead>\n",
       "  <tbody>\n",
       "    <tr>\n",
       "      <th>0</th>\n",
       "      <td>7.4</td>\n",
       "      <td>0.70</td>\n",
       "      <td>0.00</td>\n",
       "      <td>1.9</td>\n",
       "      <td>0.076</td>\n",
       "      <td>11.0</td>\n",
       "      <td>34.0</td>\n",
       "      <td>0.9978</td>\n",
       "      <td>3.51</td>\n",
       "      <td>0.56</td>\n",
       "      <td>9.4</td>\n",
       "      <td>5</td>\n",
       "      <td>0</td>\n",
       "      <td>red</td>\n",
       "      <td>Low</td>\n",
       "    </tr>\n",
       "    <tr>\n",
       "      <th>1</th>\n",
       "      <td>7.8</td>\n",
       "      <td>0.88</td>\n",
       "      <td>0.00</td>\n",
       "      <td>2.6</td>\n",
       "      <td>0.098</td>\n",
       "      <td>25.0</td>\n",
       "      <td>67.0</td>\n",
       "      <td>0.9968</td>\n",
       "      <td>3.20</td>\n",
       "      <td>0.68</td>\n",
       "      <td>9.8</td>\n",
       "      <td>5</td>\n",
       "      <td>0</td>\n",
       "      <td>red</td>\n",
       "      <td>Moderately High</td>\n",
       "    </tr>\n",
       "    <tr>\n",
       "      <th>2</th>\n",
       "      <td>7.8</td>\n",
       "      <td>0.76</td>\n",
       "      <td>0.04</td>\n",
       "      <td>2.3</td>\n",
       "      <td>0.092</td>\n",
       "      <td>15.0</td>\n",
       "      <td>54.0</td>\n",
       "      <td>0.9970</td>\n",
       "      <td>3.26</td>\n",
       "      <td>0.65</td>\n",
       "      <td>9.8</td>\n",
       "      <td>5</td>\n",
       "      <td>0</td>\n",
       "      <td>red</td>\n",
       "      <td>Medium</td>\n",
       "    </tr>\n",
       "    <tr>\n",
       "      <th>3</th>\n",
       "      <td>11.2</td>\n",
       "      <td>0.28</td>\n",
       "      <td>0.56</td>\n",
       "      <td>1.9</td>\n",
       "      <td>0.075</td>\n",
       "      <td>17.0</td>\n",
       "      <td>60.0</td>\n",
       "      <td>0.9980</td>\n",
       "      <td>3.16</td>\n",
       "      <td>0.58</td>\n",
       "      <td>9.8</td>\n",
       "      <td>6</td>\n",
       "      <td>0</td>\n",
       "      <td>red</td>\n",
       "      <td>Moderately High</td>\n",
       "    </tr>\n",
       "    <tr>\n",
       "      <th>5</th>\n",
       "      <td>7.4</td>\n",
       "      <td>0.66</td>\n",
       "      <td>0.00</td>\n",
       "      <td>1.8</td>\n",
       "      <td>0.075</td>\n",
       "      <td>13.0</td>\n",
       "      <td>40.0</td>\n",
       "      <td>0.9978</td>\n",
       "      <td>3.51</td>\n",
       "      <td>0.56</td>\n",
       "      <td>9.4</td>\n",
       "      <td>5</td>\n",
       "      <td>0</td>\n",
       "      <td>red</td>\n",
       "      <td>Low</td>\n",
       "    </tr>\n",
       "  </tbody>\n",
       "</table>\n",
       "</div>"
      ],
      "text/plain": [
       "   fixed acidity  volatile acidity  citric acid  residual sugar  chlorides  \\\n",
       "0            7.4              0.70         0.00             1.9      0.076   \n",
       "1            7.8              0.88         0.00             2.6      0.098   \n",
       "2            7.8              0.76         0.04             2.3      0.092   \n",
       "3           11.2              0.28         0.56             1.9      0.075   \n",
       "5            7.4              0.66         0.00             1.8      0.075   \n",
       "\n",
       "   free sulfur dioxide  total sulfur dioxide  density    pH  sulphates  \\\n",
       "0                 11.0                  34.0   0.9978  3.51       0.56   \n",
       "1                 25.0                  67.0   0.9968  3.20       0.68   \n",
       "2                 15.0                  54.0   0.9970  3.26       0.65   \n",
       "3                 17.0                  60.0   0.9980  3.16       0.58   \n",
       "5                 13.0                  40.0   0.9978  3.51       0.56   \n",
       "\n",
       "   alcohol  quality  good color   acidity_levels  \n",
       "0      9.4        5     0   red              Low  \n",
       "1      9.8        5     0   red  Moderately High  \n",
       "2      9.8        5     0   red           Medium  \n",
       "3      9.8        6     0   red  Moderately High  \n",
       "5      9.4        5     0   red              Low  "
      ]
     },
     "execution_count": 68,
     "metadata": {},
     "output_type": "execute_result"
    }
   ],
   "source": [
    "df.head()"
   ]
  },
  {
   "cell_type": "code",
   "execution_count": 69,
   "id": "959ae4a2",
   "metadata": {},
   "outputs": [
    {
     "data": {
      "text/plain": [
       "acidity_levels\n",
       "High               5.728024\n",
       "Moderately High    5.766917\n",
       "Medium             5.852624\n",
       "Low                5.834254\n",
       "Name: quality, dtype: float64"
      ]
     },
     "execution_count": 69,
     "metadata": {},
     "output_type": "execute_result"
    }
   ],
   "source": [
    "# Find the mean quality of each acidity level with groupby\n",
    "quality_acidity_mean = []\n",
    "quality_acidity_mean = df.groupby('acidity_levels').mean()['quality']\n",
    "quality_acidity_mean\n"
   ]
  },
  {
   "cell_type": "code",
   "execution_count": 70,
   "id": "fcff7723",
   "metadata": {},
   "outputs": [],
   "source": [
    "acidity_mean = df.groupby('acidity_levels').mean()['pH']"
   ]
  },
  {
   "cell_type": "code",
   "execution_count": 71,
   "id": "1a7b62d6",
   "metadata": {},
   "outputs": [
    {
     "data": {
      "text/plain": [
       "acidity_levels\n",
       "High               3.031495\n",
       "Moderately High    3.164835\n",
       "Medium             3.270575\n",
       "Low                3.440387\n",
       "Name: pH, dtype: float64"
      ]
     },
     "execution_count": 71,
     "metadata": {},
     "output_type": "execute_result"
    }
   ],
   "source": [
    "acidity_mean\n"
   ]
  },
  {
   "cell_type": "code",
   "execution_count": 72,
   "id": "152d0c24",
   "metadata": {},
   "outputs": [
    {
     "data": {
      "text/plain": [
       "count    5320.000000\n",
       "mean        7.215179\n",
       "std         1.319671\n",
       "min         3.800000\n",
       "25%         6.400000\n",
       "50%         7.000000\n",
       "75%         7.700000\n",
       "max        15.900000\n",
       "Name: fixed acidity, dtype: float64"
      ]
     },
     "execution_count": 72,
     "metadata": {},
     "output_type": "execute_result"
    }
   ],
   "source": [
    "df['fixed acidity'].describe()"
   ]
  },
  {
   "cell_type": "code",
   "execution_count": 73,
   "id": "36855c53",
   "metadata": {},
   "outputs": [
    {
     "data": {
      "text/plain": [
       "acidity_levels\n",
       "High               5.728024\n",
       "Moderately High    5.766917\n",
       "Medium             5.852624\n",
       "Low                5.834254\n",
       "Name: quality, dtype: float64"
      ]
     },
     "execution_count": 73,
     "metadata": {},
     "output_type": "execute_result"
    }
   ],
   "source": [
    "quality_acidity_mean"
   ]
  },
  {
   "cell_type": "code",
   "execution_count": 76,
   "id": "1dff38cf",
   "metadata": {},
   "outputs": [
    {
     "data": {
      "image/png": "[encoded data removed]",
      "text/plain": [
       "<Figure size 432x288 with 1 Axes>"
      ]
     },
     "metadata": {
      "needs_background": "light"
     },
     "output_type": "display_data"
    }
   ],
   "source": [
    "import matplotlib.pyplot as plt\n",
    "plt.plot([5.7280,5.7669,5.8526, 5.8342])\n",
    "plt.ylabel('Quality Mean for Acidity')\n",
    "plt.xlabel('Acidity Levels')\n",
    "plt.show();"
   ]
  },
  {
   "cell_type": "markdown",
   "id": "bf852140",
   "metadata": {},
   "source": [
    "#### from above figure,In this line plot, we see clearly that quality rises as does acidity."
   ]
  },
  {
   "cell_type": "code",
   "execution_count": 77,
   "id": "a7c324d4",
   "metadata": {},
   "outputs": [
    {
     "data": {
      "image/png": "[encoded data removed]",
      "text/plain": [
       "<Figure size 432x288 with 1 Axes>"
      ]
     },
     "metadata": {
      "needs_background": "light"
     },
     "output_type": "display_data"
    }
   ],
   "source": [
    "# Create a bar chart with proper labels\n",
    "locations_pH = [1,2,3,4]\n",
    "\n",
    "#points = [low_sugar_mean_quality, high_sugar_mean_quality]\n",
    "#plt.bar(locations_sugar, points, tick_label=labels_sugar)\n",
    "\n",
    "plt.bar(locations_pH,quality_acidity_mean, tick_label=bin_names)\n",
    "plt.title('Acidity vs Quality')\n",
    "plt.xlabel('Acidity')\n",
    "plt.ylabel('Quality');\n"
   ]
  },
  {
   "cell_type": "code",
   "execution_count": null,
   "id": "1c2fc59e",
   "metadata": {},
   "outputs": [],
   "source": []
  }
 ],
 "metadata": {
  "kernelspec": {
   "display_name": "Python 3 (ipykernel)",
   "language": "python",
   "name": "python3"
  },
  "language_info": {
   "codemirror_mode": {
    "name": "ipython",
    "version": 3
   },
   "file_extension": ".py",
   "mimetype": "text/x-python",
   "name": "python",
   "nbconvert_exporter": "python",
   "pygments_lexer": "ipython3",
   "version": "3.11.4"
  }
 },
 "nbformat": 4,
 "nbformat_minor": 5
}
